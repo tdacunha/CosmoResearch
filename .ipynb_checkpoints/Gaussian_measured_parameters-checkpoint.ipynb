{
 "cells": [
  {
   "cell_type": "markdown",
   "metadata": {},
   "source": [
    "# Parameter covariance (or lack thereof) of PCA and KL decompositions"
   ]
  },
  {
   "cell_type": "code",
   "execution_count": 3,
   "metadata": {},
   "outputs": [
    {
     "name": "stdout",
     "output_type": "stream",
     "text": [
      "The autoreload extension is already loaded. To reload it, use:\n",
      "  %reload_ext autoreload\n",
      "Could not import tensorflow or tensorflow_probability:  No module named 'tensorflow_probability'\n"
     ]
    }
   ],
   "source": [
    "# Show plots inline, and load main getdist plot module and samples class\n",
    "#Change\n",
    "%matplotlib inline\n",
    "%config InlineBackend.figure_format = 'retina'\n",
    "%load_ext autoreload\n",
    "%autoreload 1\n",
    "# import libraries:\n",
    "import sys, os\n",
    "sys.path.insert(0,os.path.realpath(os.path.join(os.getcwd(),'../..')))\n",
    "from getdist import plots, MCSamples\n",
    "from getdist.gaussian_mixtures import GaussianND\n",
    "import getdist\n",
    "getdist.chains.print_load_details = False\n",
    "import scipy\n",
    "import matplotlib.pyplot as plt\n",
    "import IPython\n",
    "from IPython.display import Markdown\n",
    "import numpy as np\n",
    "import seaborn as sns\n",
    "# import the tensiometer tools that we need:\n",
    "from MeasuredCosmoParameters.tensiometer import utilities\n",
    "from MeasuredCosmoParameters.tensiometer import gaussian_tension"
   ]
  },
  {
   "cell_type": "code",
   "execution_count": 6,
   "metadata": {},
   "outputs": [
    {
     "ename": "FileNotFoundError",
     "evalue": "[Errno 2] No such file or directory: '/Users/TaraD/MeasuredCosmoParamaters/MeasuredCosmoParameters/tensiometer/test_chains'",
     "output_type": "error",
     "traceback": [
      "\u001b[0;31m---------------------------------------------------------------------------\u001b[0m",
      "\u001b[0;31mFileNotFoundError\u001b[0m                         Traceback (most recent call last)",
      "\u001b[0;32m<ipython-input-6-5e667048648d>\u001b[0m in \u001b[0;36m<module>\u001b[0;34m\u001b[0m\n\u001b[1;32m      3\u001b[0m \u001b[0;31m# the DES Y1 3x2 chain:\u001b[0m\u001b[0;34m\u001b[0m\u001b[0;34m\u001b[0m\u001b[0;34m\u001b[0m\u001b[0m\n\u001b[1;32m      4\u001b[0m \u001b[0msettings\u001b[0m \u001b[0;34m=\u001b[0m \u001b[0;34m{\u001b[0m\u001b[0;34m'ignore_rows'\u001b[0m\u001b[0;34m:\u001b[0m\u001b[0;36m0\u001b[0m\u001b[0;34m,\u001b[0m \u001b[0;34m'smooth_scale_1D'\u001b[0m\u001b[0;34m:\u001b[0m\u001b[0;36m0.3\u001b[0m\u001b[0;34m,\u001b[0m \u001b[0;34m'smooth_scale_2D'\u001b[0m\u001b[0;34m:\u001b[0m\u001b[0;36m0.3\u001b[0m\u001b[0;34m}\u001b[0m\u001b[0;34m\u001b[0m\u001b[0;34m\u001b[0m\u001b[0m\n\u001b[0;32m----> 5\u001b[0;31m \u001b[0mchain\u001b[0m \u001b[0;34m=\u001b[0m \u001b[0mgetdist\u001b[0m\u001b[0;34m.\u001b[0m\u001b[0mmcsamples\u001b[0m\u001b[0;34m.\u001b[0m\u001b[0mloadMCSamples\u001b[0m\u001b[0;34m(\u001b[0m\u001b[0mfile_root\u001b[0m\u001b[0;34m=\u001b[0m\u001b[0mchains_dir\u001b[0m\u001b[0;34m+\u001b[0m\u001b[0;34m'DES'\u001b[0m\u001b[0;34m,\u001b[0m \u001b[0mno_cache\u001b[0m\u001b[0;34m=\u001b[0m\u001b[0;32mTrue\u001b[0m\u001b[0;34m,\u001b[0m \u001b[0msettings\u001b[0m\u001b[0;34m=\u001b[0m\u001b[0msettings\u001b[0m\u001b[0;34m)\u001b[0m\u001b[0;34m\u001b[0m\u001b[0;34m\u001b[0m\u001b[0m\n\u001b[0m\u001b[1;32m      6\u001b[0m \u001b[0;31m#chain = getdist.mcsamples.loadMCSamples(file_root=chains_dir+'Planck18TTTEEE', no_cache=True, settings=settings)\u001b[0m\u001b[0;34m\u001b[0m\u001b[0;34m\u001b[0m\u001b[0;34m\u001b[0m\u001b[0m\n\u001b[1;32m      7\u001b[0m \u001b[0;34m\u001b[0m\u001b[0m\n",
      "\u001b[0;32m~/opt/anaconda3/lib/python3.8/site-packages/getdist/mcsamples.py\u001b[0m in \u001b[0;36mloadMCSamples\u001b[0;34m(file_root, ini, jobItem, no_cache, settings)\u001b[0m\n\u001b[1;32m     60\u001b[0m     \u001b[0;34m:\u001b[0m\u001b[0;32mreturn\u001b[0m\u001b[0;34m:\u001b[0m \u001b[0mThe\u001b[0m \u001b[0;34m:\u001b[0m\u001b[0;32mclass\u001b[0m\u001b[0;34m:\u001b[0m\u001b[0;31m`\u001b[0m\u001b[0mMCSamples\u001b[0m\u001b[0;31m`\u001b[0m \u001b[0minstance\u001b[0m\u001b[0;34m\u001b[0m\u001b[0;34m\u001b[0m\u001b[0m\n\u001b[1;32m     61\u001b[0m     \"\"\"\n\u001b[0;32m---> 62\u001b[0;31m     \u001b[0mfiles\u001b[0m \u001b[0;34m=\u001b[0m \u001b[0mchainFiles\u001b[0m\u001b[0;34m(\u001b[0m\u001b[0mfile_root\u001b[0m\u001b[0;34m)\u001b[0m\u001b[0;34m\u001b[0m\u001b[0;34m\u001b[0m\u001b[0m\n\u001b[0m\u001b[1;32m     63\u001b[0m     \u001b[0;32mif\u001b[0m \u001b[0;32mnot\u001b[0m \u001b[0mfiles\u001b[0m\u001b[0;34m:\u001b[0m  \u001b[0;31m# try new Cobaya format\u001b[0m\u001b[0;34m\u001b[0m\u001b[0;34m\u001b[0m\u001b[0m\n\u001b[1;32m     64\u001b[0m         \u001b[0mfiles\u001b[0m \u001b[0;34m=\u001b[0m \u001b[0mchainFiles\u001b[0m\u001b[0;34m(\u001b[0m\u001b[0mfile_root\u001b[0m\u001b[0;34m,\u001b[0m \u001b[0mseparator\u001b[0m\u001b[0;34m=\u001b[0m\u001b[0;34m'.'\u001b[0m\u001b[0;34m)\u001b[0m\u001b[0;34m\u001b[0m\u001b[0;34m\u001b[0m\u001b[0m\n",
      "\u001b[0;32m~/opt/anaconda3/lib/python3.8/site-packages/getdist/chains.py\u001b[0m in \u001b[0;36mchainFiles\u001b[0;34m(root, chain_indices, ext, separator, first_chain, last_chain, chain_exclude)\u001b[0m\n\u001b[1;32m     99\u001b[0m         \u001b[0mreg_exp\u001b[0m \u001b[0;34m=\u001b[0m \u001b[0mre\u001b[0m\u001b[0;34m.\u001b[0m\u001b[0mcompile\u001b[0m\u001b[0;34m(\u001b[0m\u001b[0mre\u001b[0m\u001b[0;34m.\u001b[0m\u001b[0mescape\u001b[0m\u001b[0;34m(\u001b[0m\u001b[0mbasename\u001b[0m\u001b[0;34m)\u001b[0m \u001b[0;34m+\u001b[0m \u001b[0;34m'('\u001b[0m \u001b[0;34m+\u001b[0m \u001b[0mre\u001b[0m\u001b[0;34m.\u001b[0m\u001b[0mescape\u001b[0m\u001b[0;34m(\u001b[0m\u001b[0mseparator\u001b[0m\u001b[0;34m)\u001b[0m \u001b[0;34m+\u001b[0m \u001b[0;34m'(?P<num>[0-9]+))?'\u001b[0m \u001b[0;34m+\u001b[0m \u001b[0mre\u001b[0m\u001b[0;34m.\u001b[0m\u001b[0mescape\u001b[0m\u001b[0;34m(\u001b[0m\u001b[0mext\u001b[0m\u001b[0;34m)\u001b[0m\u001b[0;34m)\u001b[0m\u001b[0;34m\u001b[0m\u001b[0;34m\u001b[0m\u001b[0m\n\u001b[1;32m    100\u001b[0m     \u001b[0mfiles\u001b[0m \u001b[0;34m=\u001b[0m \u001b[0;34m[\u001b[0m\u001b[0;34m]\u001b[0m\u001b[0;34m\u001b[0m\u001b[0;34m\u001b[0m\u001b[0m\n\u001b[0;32m--> 101\u001b[0;31m     \u001b[0;32mfor\u001b[0m \u001b[0mf\u001b[0m \u001b[0;32min\u001b[0m \u001b[0mos\u001b[0m\u001b[0;34m.\u001b[0m\u001b[0mlistdir\u001b[0m\u001b[0;34m(\u001b[0m\u001b[0mfolder\u001b[0m\u001b[0;34m)\u001b[0m\u001b[0;34m:\u001b[0m\u001b[0;34m\u001b[0m\u001b[0;34m\u001b[0m\u001b[0m\n\u001b[0m\u001b[1;32m    102\u001b[0m         \u001b[0mmatch\u001b[0m \u001b[0;34m=\u001b[0m \u001b[0mreg_exp\u001b[0m\u001b[0;34m.\u001b[0m\u001b[0mfullmatch\u001b[0m\u001b[0;34m(\u001b[0m\u001b[0mf\u001b[0m\u001b[0;34m)\u001b[0m\u001b[0;34m\u001b[0m\u001b[0;34m\u001b[0m\u001b[0m\n\u001b[1;32m    103\u001b[0m         \u001b[0;32mif\u001b[0m \u001b[0mmatch\u001b[0m\u001b[0;34m:\u001b[0m\u001b[0;34m\u001b[0m\u001b[0;34m\u001b[0m\u001b[0m\n",
      "\u001b[0;31mFileNotFoundError\u001b[0m: [Errno 2] No such file or directory: '/Users/TaraD/MeasuredCosmoParamaters/MeasuredCosmoParameters/tensiometer/test_chains'"
     ]
    }
   ],
   "source": [
    "# load the chains (remove no burn in since the example chains have already been cleaned):\n",
    "chains_dir = '/Users/TaraD/MeasuredCosmoParamaters/MeasuredCosmoParameters/tensiometer/test_chains/' #'./../../test_chains/'\n",
    "# the DES Y1 3x2 chain:\n",
    "settings = {'ignore_rows':0, 'smooth_scale_1D':0.3, 'smooth_scale_2D':0.3}\n",
    "chain = getdist.mcsamples.loadMCSamples(file_root=chains_dir+'DES', no_cache=True, settings=settings)\n",
    "#chain = getdist.mcsamples.loadMCSamples(file_root=chains_dir+'Planck18TTTEEE', no_cache=True, settings=settings)\n",
    "\n",
    "# the prior chain:\n",
    "prior_chain = getdist.mcsamples.loadMCSamples(file_root=chains_dir+'prior', no_cache=True, settings=settings)\n",
    "# we add a couple of derived parameters that have been removed from the chains (to save a little space on github):\n",
    "for ch in [chain, prior_chain]:\n",
    "    p = ch.getParams()\n",
    "    ch.addDerived(p.omegach2/(p.H0/100.)**2, name='omegac', label='\\\\Omega_c')\n",
    "    ch.addDerived(p.omegabh2/(p.H0/100.)**2, name='omegab', label='\\\\Omega_b')\n",
    "    ch.addDerived(p.sigma8*np.sqrt(p.omegam/0.3), name='S8', label='S_8')\n",
    "    ch.addDerived(p.sigma8*5, name='sigma8_5', label='\\\\sigma_8 5')\n",
    "    ch.addDerived(p.omegam - (p.omegabh2/(p.H0/100.)**2) , name='omegac_derived', label='\\\\Omega_{c,derived}')\n",
    "\n",
    "    ch.updateBaseStatistics()\n"
   ]
  },
  {
   "cell_type": "code",
   "execution_count": 3,
   "metadata": {},
   "outputs": [],
   "source": [
    "param_names = chain.getParamNames().getRunningNames()\n",
    "#g = plots.get_subplot_plotter()\n",
    "#g.triangle_plot([prior_chain, chain], params=param_names, filled=True)\n",
    "#param_names = ['omegam', 'omegab', 'sigma8', 'ns', 'H0']\n",
    "param_names = ['omegam', 'omegab', 'sigma8', 'ns', 'H0']\n",
    "#param_names = ['omegac', 'omegab', 'sigma8', 'ns', 'H0']\n",
    "#print(chain.index['omegac'])\n"
   ]
  },
  {
   "cell_type": "code",
   "execution_count": 4,
   "metadata": {},
   "outputs": [],
   "source": [
    "for ch in [chain, prior_chain]:\n",
    "    p = ch.getParams()\n",
    "    ch.addDerived(np.log(p.omegam), name='log_omegam', label='\\\\log \\\\Omega_m')\n",
    "    ch.addDerived(np.log(p.omegab), name='log_omegab', label='\\\\log \\\\Omega_b')\n",
    "    ch.addDerived(np.log(p.sigma8), name='log_sigma8', label='\\\\log \\\\sigma_8')\n",
    "    ch.addDerived(np.log(p.ns), name='log_ns', label='\\\\log n_s')\n",
    "    ch.addDerived(np.log(p.H0), name='log_H0', label='\\\\log H_0')\n",
    "    \n",
    "    # changed\n",
    "    ch.addDerived(np.log(p.logA), name='log_logA', label='\\\\log \\\\logA')\n",
    "    ch.addDerived(np.log(p.sigma8_5), name='log_sigma8_5', label='\\\\log \\\\sigma_8 5')\n",
    "    ch.addDerived(np.log(p.omegac), name='log_omegac', label='\\\\log \\\\Omega_c')\n",
    "    ch.addDerived(np.log(p.omegac_derived), name='log_omegac_derived', label='\\\\log \\\\Omega_{c,derived}')\n",
    "    #\n",
    "    ch.updateBaseStatistics()"
   ]
  },
  {
   "cell_type": "code",
   "execution_count": null,
   "metadata": {},
   "outputs": [],
   "source": [
    "print(param_names)"
   ]
  },
  {
   "cell_type": "code",
   "execution_count": 6,
   "metadata": {},
   "outputs": [
    {
     "name": "stdout",
     "output_type": "stream",
     "text": [
      "<class 'getdist.mcsamples.MCSamples'>\n",
      "['omegam', 'omegab', 'sigma8', 'ns', 'H0']\n",
      "['log_omegam', 'log_omegab', 'log_sigma8', 'log_ns', 'log_H0']\n",
      "17\n"
     ]
    }
   ],
   "source": [
    "print(type(chain))\n",
    "#print(chain.getParamNames())\n",
    "print(param_names)\n",
    "#print(chain.index['log_omegam'])\n",
    "KL_param_names = ['log_'+name for name in param_names]\n",
    "print(KL_param_names)\n",
    "\n",
    "# Need this line for chain indexing to fully work for some reason (revisit why later):\n",
    "#KL_eig, KL_eigv, KL_param_names = gaussian_tension.Q_UDM_KL_components(prior_chain, chain, param_names=KL_param_names)\n",
    "\n",
    "print(chain.index['log_omegam'])\n",
    "\n",
    "#cov = np.array(chain.getCov())\n",
    "#mean = np.reshape(chain.getMeans(), (len(chain.getMeans()),1))\n",
    "#print(np.shape(cov))\n",
    "#print(np.shape(mean))\n",
    "#Gauss = MixtureND(mean,cov)\n",
    "#chain_gauss = Gauss.MCSamples()\n",
    "\n",
    "Gauss = gaussian_tension.gaussian_approximation(chain, param_names=KL_param_names)\n",
    "chain_gauss = Gauss.MCSamples(size = 100000)\n",
    "prior_gauss = gaussian_tension.gaussian_approximation(prior_chain, param_names=KL_param_names)\n",
    "prior_chain_gauss = prior_gauss.MCSamples(size = 100000)\n",
    "\n",
    "#prior_cov = prior_chain.getCov()\n",
    "#prior_mean = chain.getMeans()\n",
    "#prior_Gauss = MixtureND(mean,cov)\n",
    "#prior_chain_gauss = Gauss.MCSamples()\n",
    "\n",
    "##### MR after generating the two perfectly Gaussian chains we can compute here the other parameters as derived:\n",
    "for ch in [chain_gauss, prior_chain_gauss]:\n",
    "    \n",
    "    p = ch.getParams()\n",
    "    ch.addDerived(np.exp(p.log_omegam), name='omegam', label='\\\\Omega_m')\n",
    "    # and so on...\n",
    "    \n",
    "    # we can also add here Omegac so that we can get the different KLs easily\n",
    "    \n",
    "\n",
    "    ch.updateBaseStatistics()"
   ]
  },
  {
   "cell_type": "code",
   "execution_count": 8,
   "metadata": {},
   "outputs": [
    {
     "name": "stdout",
     "output_type": "stream",
     "text": [
      "['omegam', 'omegab', 'sigma8', 'ns', 'H0']\n",
      "Improvement factor over the prior: [1417.54   51.11   31.35    1.34    1.11]\n",
      "Improvement in error units: [37.64  7.08  5.51  0.58  0.34]\n"
     ]
    }
   ],
   "source": [
    "print(param_names)\n",
    "\n",
    "# compute the KL modes:\n",
    "KL_eig, KL_eigv, KL_param_names = gaussian_tension.Q_UDM_KL_components(prior_chain_gauss, chain_gauss, param_names=KL_param_names)\n",
    "# print:\n",
    "with np.printoptions(precision=2, suppress=True):\n",
    "    print('Improvement factor over the prior:', KL_eig)\n",
    "    print('Improvement in error units:', np.sqrt(KL_eig-1))\n",
    "    \n",
    "# do the PCA on the log parameters:\n",
    "#print(chain)\n",
    "\n",
    "PCA_param_names = ['log_'+name for name in param_names]\n",
    "# compute the PCA modes:\n",
    "#PCA_eig, PCA_eigv, PCA_param_names = \n",
    "#PCA_out = chain_gauss.PCA(KL_param_names)\n",
    "#print(PCA_out)\n",
    "\n",
    "# print:\n",
    "#with np.printoptions(precision=2, suppress=True):\n",
    "#    print('Improvement factor over the prior:', PCA_eig)\n",
    "#    print('Improvement in error units:', np.sqrt(PCA_eig-1))\n"
   ]
  },
  {
   "cell_type": "code",
   "execution_count": 11,
   "metadata": {},
   "outputs": [
    {
     "name": "stdout",
     "output_type": "stream",
     "text": [
      "[0.00051952 0.00135089 0.01555205 0.033888   0.12111139]\n"
     ]
    }
   ],
   "source": [
    "PCA_eig, PCA_eigv = np.linalg.eigh(chain_gauss.cov(KL_param_names))\n"
   ]
  },
  {
   "cell_type": "code",
   "execution_count": null,
   "metadata": {},
   "outputs": [],
   "source": [
    "# First we compute the fractional Fisher matrix:\n",
    "KL_param_names, KL_eig, fractional_fisher, _ = gaussian_tension.Q_UDM_fisher_components(prior_chain, chain, KL_param_names, which='1')\n",
    "# plot (showing values and names):\n",
    "im1 = plt.imshow( fractional_fisher, cmap='viridis')\n",
    "num_params = len(fractional_fisher)\n",
    "for i in range(num_params):\n",
    "    for j in range(num_params):\n",
    "        if fractional_fisher[j,i]>0.5:\n",
    "            col = 'k'\n",
    "        else:\n",
    "            col = 'w'\n",
    "        plt.text(i, j, np.round(fractional_fisher[j,i],2), va='center', ha='center', color=col)\n",
    "plt.xlabel('KL mode (error improvement)');\n",
    "plt.ylabel('Parameters');\n",
    "ticks  = np.arange(num_params)\n",
    "labels = [ str(t+1)+'\\n ('+str(l)+')' for t,l in zip(ticks,np.round(np.sqrt(KL_eig-1.),2))]\n",
    "plt.xticks(ticks, labels, horizontalalignment='center');\n",
    "labels = [ '$'+chain.getParamNames().parWithName(name).label+'$' for name in KL_param_names ]\n",
    "plt.yticks(ticks, labels, horizontalalignment='right');"
   ]
  },
  {
   "cell_type": "code",
   "execution_count": null,
   "metadata": {},
   "outputs": [],
   "source": [
    "print(chain.index['log_omegam'])\n"
   ]
  },
  {
   "cell_type": "code",
   "execution_count": null,
   "metadata": {},
   "outputs": [],
   "source": []
  }
 ],
 "metadata": {
  "kernelspec": {
   "display_name": "Python 3",
   "language": "python",
   "name": "python3"
  },
  "language_info": {
   "codemirror_mode": {
    "name": "ipython",
    "version": 3
   },
   "file_extension": ".py",
   "mimetype": "text/x-python",
   "name": "python",
   "nbconvert_exporter": "python",
   "pygments_lexer": "ipython3",
   "version": "3.8.5"
  }
 },
 "nbformat": 4,
 "nbformat_minor": 4
}

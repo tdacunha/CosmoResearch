{
 "cells": [
  {
   "cell_type": "code",
   "execution_count": 1,
   "metadata": {},
   "outputs": [
    {
     "name": "stdout",
     "output_type": "stream",
     "text": [
      "Could not import tensorflow or tensorflow_probability:  No module named 'tensorflow_probability'\n"
     ]
    }
   ],
   "source": [
    "# Show plots inline, and load main getdist plot module and samples class\n",
    "#Change\n",
    "%matplotlib inline\n",
    "%config InlineBackend.figure_format = 'retina'\n",
    "%load_ext autoreload\n",
    "%autoreload 1\n",
    "# import libraries:\n",
    "import sys, os\n",
    "sys.path.insert(0,os.path.realpath(os.path.join(os.getcwd(),'../..')))\n",
    "from getdist import plots, MCSamples\n",
    "from getdist.gaussian_mixtures import GaussianND\n",
    "import getdist\n",
    "getdist.chains.print_load_details = False\n",
    "import scipy\n",
    "import matplotlib.pyplot as plt\n",
    "import IPython\n",
    "from IPython.display import Markdown\n",
    "import numpy as np\n",
    "import seaborn as sns\n",
    "\n",
    "# import the tensiometer tools that we need:\n",
    "\n",
    "from tensiometer.tensiometer import utilities\n",
    "from tensiometer.tensiometer import gaussian_tension"
   ]
  },
  {
   "cell_type": "code",
   "execution_count": 56,
   "metadata": {},
   "outputs": [],
   "source": [
    "# load the chains (remove no burn in since the example chains have already been cleaned):\n",
    "chains_dir = 'tensiometer/test_chains/' #'./../../test_chains/'\n",
    "# the DES Y1 3x2 chain:\n",
    "settings = {'ignore_rows':0, 'smooth_scale_1D':0.3, 'smooth_scale_2D':0.3}\n",
    "chain = getdist.mcsamples.loadMCSamples(file_root=chains_dir+'DES', no_cache=True, settings=settings)\n",
    "#chain = getdist.mcsamples.loadMCSamples(file_root=chains_dir+'Planck18TTTEEE', no_cache=True, settings=settings)\n",
    "\n",
    "# the prior chain:\n",
    "prior_chain = getdist.mcsamples.loadMCSamples(file_root=chains_dir+'prior', no_cache=True, settings=settings)\n",
    "# we add a couple of derived parameters that have been removed from the chains (to save a little space on github):\n",
    "for ch in [chain, prior_chain]:\n",
    "    p = ch.getParams()\n",
    "    ch.addDerived(p.omegach2/(p.H0/100.)**2, name='omegac', label='\\\\Omega_c')\n",
    "    ch.addDerived(p.omegabh2/(p.H0/100.)**2, name='omegab', label='\\\\Omega_b')\n",
    "    ch.addDerived(p.sigma8*np.sqrt(p.omegam/0.3), name='S8', label='S_8')\n",
    "    \n",
    "    ch.addDerived(p.sigma8*5, name='sigma8_5', label='\\\\sigma_8 5')\n",
    "    ch.addDerived(p.omegam - (p.omegabh2/(p.H0/100.)**2) , name='omegac_derived', label='\\\\Omega_{c,derived}')\n",
    "\n"
   ]
  },
  {
   "cell_type": "code",
   "execution_count": 57,
   "metadata": {},
   "outputs": [],
   "source": [
    "param_names = chain.getParamNames().getRunningNames()\n",
    "#g = plots.get_subplot_plotter()\n",
    "#g.triangle_plot([prior_chain, chain], params=param_names, filled=True)\n",
    "#param_names = ['omegam', 'omegab', 'sigma8', 'ns', 'H0']\n",
    "param_names = ['omegac_derived', 'omegab', 'sigma8', 'ns', 'H0']\n",
    "#param_names = ['omegac', 'omegab', 'sigma8', 'ns', 'H0']\n",
    "#print(chain.index['omegac'])\n"
   ]
  },
  {
   "cell_type": "code",
   "execution_count": 58,
   "metadata": {},
   "outputs": [],
   "source": [
    "for ch in [chain, prior_chain]:\n",
    "    p = ch.getParams()\n",
    "    ch.addDerived(np.log(p.omegam), name='log_omegam', label='\\\\log \\\\Omega_m')\n",
    "    ch.addDerived(np.log(p.omegab), name='log_omegab', label='\\\\log \\\\Omega_b')\n",
    "    ch.addDerived(np.log(p.sigma8), name='log_sigma8', label='\\\\log \\\\sigma_8')\n",
    "    ch.addDerived(np.log(p.ns), name='log_ns', label='\\\\log n_s')\n",
    "    ch.addDerived(np.log(p.H0), name='log_H0', label='\\\\log H_0')\n",
    "    \n",
    "    # changed\n",
    "    ch.addDerived(np.log(p.logA), name='log_logA', label='\\\\log \\\\logA')\n",
    "    ch.addDerived(np.log(p.sigma8_5), name='log_sigma8_5', label='\\\\log \\\\sigma_8 5')\n",
    "    ch.addDerived(np.log(p.omegac), name='log_omegac', label='\\\\log \\\\Omega_c')\n",
    "    ch.addDerived(np.log(p.omegac_derived), name='log_omegac_derived', label='\\\\log \\\\Omega_{c,derived}')\n",
    "\n"
   ]
  },
  {
   "cell_type": "code",
   "execution_count": 67,
   "metadata": {},
   "outputs": [
    {
     "name": "stdout",
     "output_type": "stream",
     "text": [
      "<class 'getdist.mcsamples.MCSamples'>\n",
      "['omegac_derived', 'omegab', 'sigma8', 'ns', 'H0']\n",
      "['log_omegac_derived', 'log_omegab', 'log_sigma8', 'log_ns', 'log_H0']\n",
      "17\n"
     ]
    }
   ],
   "source": [
    "print(type(chain))\n",
    "#print(chain.getParamNames())\n",
    "print(param_names)\n",
    "#print(chain.index['log_omegam'])\n",
    "KL_param_names = ['log_'+name for name in param_names]\n",
    "print(KL_param_names)\n",
    "\n",
    "# Need this line for chain indexing to fully work for some reason (revisit why later):\n",
    "KL_eig, KL_eigv, KL_param_names = gaussian_tension.Q_UDM_KL_components(prior_chain, chain, param_names=KL_param_names)\n",
    "\n",
    "print(chain.index['log_omegam'])\n",
    "\n",
    "#cov = np.array(chain.getCov())\n",
    "#mean = np.reshape(chain.getMeans(), (len(chain.getMeans()),1))\n",
    "#print(np.shape(cov))\n",
    "#print(np.shape(mean))\n",
    "#Gauss = MixtureND(mean,cov)\n",
    "#chain_gauss = Gauss.MCSamples()\n",
    "\n",
    "Gauss = gaussian_tension.gaussian_approximation(chain, param_names=KL_param_names)\n",
    "chain_gauss = Gauss.MCSamples(size = 100000)\n",
    "prior_gauss = gaussian_tension.gaussian_approximation(prior_chain, param_names=KL_param_names)\n",
    "prior_chain_gauss = prior_gauss.MCSamples(size = 100000)\n",
    "\n",
    "#prior_cov = prior_chain.getCov()\n",
    "#prior_mean = chain.getMeans()\n",
    "#prior_Gauss = MixtureND(mean,cov)\n",
    "#prior_chain_gauss = Gauss.MCSamples()\n"
   ]
  },
  {
   "cell_type": "code",
   "execution_count": 68,
   "metadata": {},
   "outputs": [
    {
     "name": "stdout",
     "output_type": "stream",
     "text": [
      "['omegac_derived', 'omegab', 'sigma8', 'ns', 'H0']\n",
      "Improvement factor over the prior: [1561.88   49.46   31.89    1.34    1.17]\n",
      "Improvement in error units: [39.51  6.96  5.56  0.59  0.41]\n",
      "PCA for parameters:\n",
      "\n",
      "Correlation matrix for reduced parameters\n",
      "\n",
      "e-values of correlation matrix\n",
      "\n",
      "e-vectors\n",
      "\n",
      "Principle components\n",
      "Correlations of principle components\n",
      "\n",
      "   1   (\\log \\Omega_{c,derived})\n",
      "   2   (\\log \\Omega_b)\n",
      "   3   (\\log \\sigma_8)\n",
      "   4   (\\log n_s)\n",
      "   5   (\\log H_0)\n",
      "\n"
     ]
    }
   ],
   "source": [
    "print(param_names)\n",
    "\n",
    "# compute the KL modes:\n",
    "KL_eig, KL_eigv, KL_param_names = gaussian_tension.Q_UDM_KL_components(prior_chain_gauss, chain_gauss, param_names=KL_param_names)\n",
    "# print:\n",
    "with np.printoptions(precision=2, suppress=True):\n",
    "    print('Improvement factor over the prior:', KL_eig)\n",
    "    print('Improvement in error units:', np.sqrt(KL_eig-1))\n",
    "    \n",
    "# do the PCA on the log parameters:\n",
    "#print(chain)\n",
    "\n",
    "PCA_param_names = ['log_'+name for name in param_names]\n",
    "# compute the PCA modes:\n",
    "#PCA_eig, PCA_eigv, PCA_param_names = \n",
    "PCA_out = chain_gauss.PCA(param_names)\n",
    "print(PCA_out)\n",
    "# print:\n",
    "#with np.printoptions(precision=2, suppress=True):\n",
    "#    print('Improvement factor over the prior:', PCA_eig)\n",
    "#    print('Improvement in error units:', np.sqrt(PCA_eig-1))\n"
   ]
  },
  {
   "cell_type": "code",
   "execution_count": null,
   "metadata": {},
   "outputs": [],
   "source": [
    "# First we compute the fractional Fisher matrix:\n",
    "KL_param_names, KL_eig, fractional_fisher, _ = gaussian_tension.Q_UDM_fisher_components(prior_chain, chain, KL_param_names, which='1')\n",
    "# plot (showing values and names):\n",
    "im1 = plt.imshow( fractional_fisher, cmap='viridis')\n",
    "num_params = len(fractional_fisher)\n",
    "for i in range(num_params):\n",
    "    for j in range(num_params):\n",
    "        if fractional_fisher[j,i]>0.5:\n",
    "            col = 'k'\n",
    "        else:\n",
    "            col = 'w'\n",
    "        plt.text(i, j, np.round(fractional_fisher[j,i],2), va='center', ha='center', color=col)\n",
    "plt.xlabel('KL mode (error improvement)');\n",
    "plt.ylabel('Parameters');\n",
    "ticks  = np.arange(num_params)\n",
    "labels = [ str(t+1)+'\\n ('+str(l)+')' for t,l in zip(ticks,np.round(np.sqrt(KL_eig-1.),2))]\n",
    "plt.xticks(ticks, labels, horizontalalignment='center');\n",
    "labels = [ '$'+chain.getParamNames().parWithName(name).label+'$' for name in KL_param_names ]\n",
    "plt.yticks(ticks, labels, horizontalalignment='right');"
   ]
  },
  {
   "cell_type": "code",
   "execution_count": null,
   "metadata": {},
   "outputs": [],
   "source": [
    "print(chain.index['log_omegam'])\n"
   ]
  },
  {
   "cell_type": "code",
   "execution_count": null,
   "metadata": {},
   "outputs": [],
   "source": []
  }
 ],
 "metadata": {
  "kernelspec": {
   "display_name": "Python 3",
   "language": "python",
   "name": "python3"
  },
  "language_info": {
   "codemirror_mode": {
    "name": "ipython",
    "version": 3
   },
   "file_extension": ".py",
   "mimetype": "text/x-python",
   "name": "python",
   "nbconvert_exporter": "python",
   "pygments_lexer": "ipython3",
   "version": "3.8.5"
  }
 },
 "nbformat": 4,
 "nbformat_minor": 4
}
